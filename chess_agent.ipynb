{
  "cells": [
    {
      "cell_type": "markdown",
      "metadata": {
        "id": "view-in-github",
        "colab_type": "text"
      },
      "source": [
        "<a href=\"https://colab.research.google.com/github/Ishita95-harvad/FIDE-Google-Efficient-Chess-AI-Challenge/blob/main/chess_agent.ipynb\" target=\"_parent\"><img src=\"https://colab.research.google.com/assets/colab-badge.svg\" alt=\"Open In Colab\"/></a>"
      ]
    },
    {
      "cell_type": "markdown",
      "metadata": {
        "id": "Fo9zqk1eGeek"
      },
      "source": [
        "# FIDE-Google Efficient Chess AI Challenge\n",
        "\n",
        "This notebook implements a resource-efficient chess AI agent for the [FIDE & Google Kaggle competition](https://www.kaggle.com/competitions/fide-google-efficiency-chess-ai-challenge).\n",
        "\n",
        "## Competition Constraints\n",
        "- 5 MiB RAM limit\n",
        "- Single 2.20GHz CPU core\n",
        "- 64KiB compressed submission size limit\n",
        "- 10s with 0.1s Simple Delay time control"
      ]
    },
    {
      "cell_type": "markdown",
      "metadata": {
        "id": "4hR_eESFGefD"
      },
      "source": [
        "## Install Dependencies\n",
        "First, let's install the required packages:"
      ]
    },
    {
      "cell_type": "code",
      "execution_count": 1,
      "metadata": {
        "colab": {
          "base_uri": "https://localhost:8080/",
          "height": 727
        },
        "id": "zLhQIh4-GefH",
        "outputId": "92f201f4-7d22-4317-b062-a253d2b45111"
      },
      "outputs": [
        {
          "output_type": "stream",
          "name": "stdout",
          "text": [
            "Collecting python-chess==1.999\n",
            "  Downloading python_chess-1.999-py3-none-any.whl.metadata (776 bytes)\n",
            "Collecting numpy==1.24.3\n",
            "  Downloading numpy-1.24.3-cp311-cp311-manylinux_2_17_x86_64.manylinux2014_x86_64.whl.metadata (5.6 kB)\n",
            "Collecting chess<2,>=1 (from python-chess==1.999)\n",
            "  Downloading chess-1.11.2.tar.gz (6.1 MB)\n",
            "\u001b[2K     \u001b[90m━━━━━━━━━━━━━━━━━━━━━━━━━━━━━━━━━━━━━━━━\u001b[0m \u001b[32m6.1/6.1 MB\u001b[0m \u001b[31m55.6 MB/s\u001b[0m eta \u001b[36m0:00:00\u001b[0m\n",
            "\u001b[?25h  Preparing metadata (setup.py) ... \u001b[?25l\u001b[?25hdone\n",
            "Downloading python_chess-1.999-py3-none-any.whl (1.4 kB)\n",
            "Downloading numpy-1.24.3-cp311-cp311-manylinux_2_17_x86_64.manylinux2014_x86_64.whl (17.3 MB)\n",
            "\u001b[2K   \u001b[90m━━━━━━━━━━━━━━━━━━━━━━━━━━━━━━━━━━━━━━━━\u001b[0m \u001b[32m17.3/17.3 MB\u001b[0m \u001b[31m28.7 MB/s\u001b[0m eta \u001b[36m0:00:00\u001b[0m\n",
            "\u001b[?25hBuilding wheels for collected packages: chess\n",
            "  Building wheel for chess (setup.py) ... \u001b[?25l\u001b[?25hdone\n",
            "  Created wheel for chess: filename=chess-1.11.2-py3-none-any.whl size=147775 sha256=7f22a57e827d1f515af920875d8b83bd364974cbb6b5caacc2c4d84ce0dba719\n",
            "  Stored in directory: /root/.cache/pip/wheels/fb/5d/5c/59a62d8a695285e59ec9c1f66add6f8a9ac4152499a2be0113\n",
            "Successfully built chess\n",
            "Installing collected packages: numpy, chess, python-chess\n",
            "  Attempting uninstall: numpy\n",
            "    Found existing installation: numpy 2.0.2\n",
            "    Uninstalling numpy-2.0.2:\n",
            "      Successfully uninstalled numpy-2.0.2\n",
            "\u001b[31mERROR: pip's dependency resolver does not currently take into account all the packages that are installed. This behaviour is the source of the following dependency conflicts.\n",
            "jaxlib 0.5.1 requires numpy>=1.25, but you have numpy 1.24.3 which is incompatible.\n",
            "pymc 5.22.0 requires numpy>=1.25.0, but you have numpy 1.24.3 which is incompatible.\n",
            "albucore 0.0.24 requires numpy>=1.24.4, but you have numpy 1.24.3 which is incompatible.\n",
            "blosc2 3.3.3 requires numpy>=1.26, but you have numpy 1.24.3 which is incompatible.\n",
            "tensorflow 2.18.0 requires numpy<2.1.0,>=1.26.0, but you have numpy 1.24.3 which is incompatible.\n",
            "albumentations 2.0.7 requires numpy>=1.24.4, but you have numpy 1.24.3 which is incompatible.\n",
            "thinc 8.3.6 requires numpy<3.0.0,>=2.0.0, but you have numpy 1.24.3 which is incompatible.\n",
            "treescope 0.1.9 requires numpy>=1.25.2, but you have numpy 1.24.3 which is incompatible.\n",
            "jax 0.5.2 requires numpy>=1.25, but you have numpy 1.24.3 which is incompatible.\u001b[0m\u001b[31m\n",
            "\u001b[0mSuccessfully installed chess-1.11.2 numpy-1.24.3 python-chess-1.999\n"
          ]
        },
        {
          "output_type": "display_data",
          "data": {
            "application/vnd.colab-display-data+json": {
              "pip_warning": {
                "packages": [
                  "numpy"
                ]
              },
              "id": "f23ece2b12204fafbcea8e5cfa0feefb"
            }
          },
          "metadata": {}
        }
      ],
      "source": [
        "!pip install python-chess==1.999 numpy==1.24.3"
      ]
    },
    {
      "cell_type": "markdown",
      "metadata": {
        "id": "A77Oas21GefM"
      },
      "source": [
        "## Import Required Libraries"
      ]
    },
    {
      "cell_type": "code",
      "execution_count": 1,
      "metadata": {
        "id": "0MQPBmr2GefP"
      },
      "outputs": [],
      "source": [
        "import chess\n",
        "import numpy as np\n",
        "import time\n",
        "from typing import Dict, List, Optional, Tuple"
      ]
    },
    {
      "cell_type": "markdown",
      "metadata": {
        "id": "rXM433alGefS"
      },
      "source": [
        "## Chess Agent Implementation\n",
        "\n",
        "Our chess agent implements:\n",
        "1. Minimax search with alpha-beta pruning\n",
        "2. Basic evaluation function\n",
        "3. Iterative deepening for time management"
      ]
    },
    {
      "cell_type": "code",
      "execution_count": 2,
      "metadata": {
        "id": "1Bu91D_JGefT"
      },
      "outputs": [],
      "source": [
        "class ChessAgent:\n",
        "    def __init__(self):\n",
        "        # Piece values for basic material evaluation\n",
        "        self.piece_values = {\n",
        "            chess.PAWN: 100,\n",
        "            chess.KNIGHT: 320,\n",
        "            chess.BISHOP: 330,\n",
        "            chess.ROOK: 500,\n",
        "            chess.QUEEN: 900,\n",
        "            chess.KING: 20000\n",
        "        }\n",
        "\n",
        "        # Simple piece-square tables for positional evaluation\n",
        "        self.pst = self._initialize_piece_square_tables()\n",
        "\n",
        "    def _initialize_piece_square_tables(self) -> Dict:\n",
        "        \"\"\"Initialize basic piece-square tables for positional evaluation.\"\"\"\n",
        "        # Simple piece-square tables (to be optimized)\n",
        "        pst = {\n",
        "            chess.PAWN: np.array([\n",
        "                0,  0,  0,  0,  0,  0,  0,  0,\n",
        "                50, 50, 50, 50, 50, 50, 50, 50,\n",
        "                10, 10, 20, 30, 30, 20, 10, 10,\n",
        "                5,  5, 10, 25, 25, 10,  5,  5,\n",
        "                0,  0,  0, 20, 20,  0,  0,  0,\n",
        "                5, -5,-10,  0,  0,-10, -5,  5,\n",
        "                5, 10, 10,-20,-20, 10, 10,  5,\n",
        "                0,  0,  0,  0,  0,  0,  0,  0\n",
        "            ]),\n",
        "            chess.KNIGHT: np.array([\n",
        "                -50,-40,-30,-30,-30,-30,-40,-50,\n",
        "                -40,-20,  0,  0,  0,  0,-20,-40,\n",
        "                -30,  0, 10, 15, 15, 10,  0,-30,\n",
        "                -30,  5, 15, 20, 20, 15,  5,-30,\n",
        "                -30,  0, 15, 20, 20, 15,  0,-30,\n",
        "                -30,  5, 10, 15, 15, 10,  5,-30,\n",
        "                -40,-20,  0,  5,  5,  0,-20,-40,\n",
        "                -50,-40,-30,-30,-30,-30,-40,-50\n",
        "            ])\n",
        "        }\n",
        "        return pst\n",
        "\n",
        "    def evaluate_position(self, board: chess.Board) -> float:\n",
        "        \"\"\"\n",
        "        Evaluate the current position.\n",
        "        Returns a score from white's perspective.\n",
        "        \"\"\"\n",
        "        if board.is_checkmate():\n",
        "            return -20000 if board.turn else 20000\n",
        "\n",
        "        score = 0\n",
        "\n",
        "        # Material evaluation\n",
        "        for piece_type in self.piece_values:\n",
        "            score += len(board.pieces(piece_type, chess.WHITE)) * self.piece_values[piece_type]\n",
        "            score -= len(board.pieces(piece_type, chess.BLACK)) * self.piece_values[piece_type]\n",
        "\n",
        "        # Basic mobility evaluation\n",
        "        score += len(list(board.legal_moves)) * (1 if board.turn else -1)\n",
        "\n",
        "        return score\n",
        "\n",
        "    def get_best_move(self, board: chess.Board, depth: int = 3) -> Optional[chess.Move]:\n",
        "        \"\"\"Find the best move using minimax with alpha-beta pruning.\"\"\"\n",
        "        def minimax(board: chess.Board, depth: int, alpha: float, beta: float, maximizing: bool) -> Tuple[float, Optional[chess.Move]]:\n",
        "            if depth == 0 or board.is_game_over():\n",
        "                return self.evaluate_position(board), None\n",
        "\n",
        "            best_move = None\n",
        "            if maximizing:\n",
        "                max_eval = float('-inf')\n",
        "                for move in board.legal_moves:\n",
        "                    board.push(move)\n",
        "                    eval_score, _ = minimax(board, depth - 1, alpha, beta, False)\n",
        "                    board.pop()\n",
        "\n",
        "                    if eval_score > max_eval:\n",
        "                        max_eval = eval_score\n",
        "                        best_move = move\n",
        "                    alpha = max(alpha, eval_score)\n",
        "                    if beta <= alpha:\n",
        "                        break\n",
        "                return max_eval, best_move\n",
        "            else:\n",
        "                min_eval = float('inf')\n",
        "                for move in board.legal_moves:\n",
        "                    board.push(move)\n",
        "                    eval_score, _ = minimax(board, depth - 1, alpha, beta, True)\n",
        "                    board.pop()\n",
        "\n",
        "                    if eval_score < min_eval:\n",
        "                        min_eval = eval_score\n",
        "                        best_move = move\n",
        "                    beta = min(beta, eval_score)\n",
        "                    if beta <= alpha:\n",
        "                        break\n",
        "                return min_eval, best_move\n",
        "\n",
        "        _, best_move = minimax(board, depth, float('-inf'), float('inf'), True)\n",
        "        return best_move"
      ]
    },
    {
      "cell_type": "markdown",
      "metadata": {
        "id": "nVD7zYiXGefY"
      },
      "source": [
        "## Competition Entry Point\n",
        "\n",
        "This is the main function that will be called by the competition framework:"
      ]
    },
    {
      "cell_type": "code",
      "execution_count": 3,
      "metadata": {
        "id": "PAq4HZfaGefZ"
      },
      "outputs": [],
      "source": [
        "def agent(obs, config):\n",
        "    \"\"\"\n",
        "    Main agent function that will be called by the competition framework.\n",
        "    Args:\n",
        "        obs: Observation from the environment\n",
        "        config: Configuration for the game\n",
        "    Returns:\n",
        "        move: A chess move in UCI format (e.g., 'e2e4')\n",
        "    \"\"\"\n",
        "    # Initialize board from FEN if provided\n",
        "    board = chess.Board(obs.get('fen', chess.STARTING_FEN))\n",
        "\n",
        "    # Create agent instance\n",
        "    chess_agent = ChessAgent()\n",
        "\n",
        "    # Get the best move with iterative deepening\n",
        "    start_time = time.time()\n",
        "    time_limit = 0.1  # Conservative time limit to ensure we don't timeout\n",
        "    depth = 1\n",
        "    best_move = None\n",
        "\n",
        "    while time.time() - start_time < time_limit and depth <= 4:\n",
        "        try:\n",
        "            move = chess_agent.get_best_move(board, depth)\n",
        "            if move:\n",
        "                best_move = move\n",
        "            depth += 1\n",
        "        except Exception:\n",
        "            break\n",
        "\n",
        "    # Return the best move found\n",
        "    return best_move.uci() if best_move else list(board.legal_moves)[0].uci()"
      ]
    },
    {
      "cell_type": "markdown",
      "metadata": {
        "id": "TVGl3GPYGefc"
      },
      "source": [
        "## Test the Agent\n",
        "\n",
        "Let's test our agent with a simple game position:"
      ]
    },
    {
      "cell_type": "code",
      "execution_count": 4,
      "metadata": {
        "colab": {
          "base_uri": "https://localhost:8080/"
        },
        "id": "4AA2YG2-Gefd",
        "outputId": "767d51e7-abc6-4252-a862-cd9e59ed0319"
      },
      "outputs": [
        {
          "output_type": "stream",
          "name": "stdout",
          "text": [
            "Agent's move: e2e3\n",
            "\n",
            "Starting position:\n",
            "r n b q k b n r\n",
            "p p p p p p p p\n",
            ". . . . . . . .\n",
            ". . . . . . . .\n",
            ". . . . . . . .\n",
            ". . . . . . . .\n",
            "P P P P P P P P\n",
            "R N B Q K B N R\n"
          ]
        }
      ],
      "source": [
        "# Test from starting position\n",
        "test_obs = {'fen': chess.STARTING_FEN}\n",
        "test_config = {}\n",
        "\n",
        "# Get move from agent\n",
        "move = agent(test_obs, test_config)\n",
        "print(f\"Agent's move: {move}\")\n",
        "\n",
        "# Display the board\n",
        "board = chess.Board()\n",
        "print(\"\\nStarting position:\")\n",
        "print(board)"
      ]
    },
    {
      "cell_type": "markdown",
      "source": [
        "**Install Dependencies:**\n",
        "\n",
        "Run the following cell to install python-chess and numpy"
      ],
      "metadata": {
        "id": "LfrwqWHcHuY-"
      }
    },
    {
      "cell_type": "code",
      "source": [
        "!pip install python-chess numpy"
      ],
      "metadata": {
        "colab": {
          "base_uri": "https://localhost:8080/"
        },
        "id": "ytoODP2-Huxn",
        "outputId": "c554a208-3919-402d-d024-d1b7a7735178"
      },
      "execution_count": 5,
      "outputs": [
        {
          "output_type": "stream",
          "name": "stdout",
          "text": [
            "Requirement already satisfied: python-chess in /usr/local/lib/python3.11/dist-packages (1.999)\n",
            "Requirement already satisfied: numpy in /usr/local/lib/python3.11/dist-packages (1.24.3)\n",
            "Requirement already satisfied: chess<2,>=1 in /usr/local/lib/python3.11/dist-packages (from python-chess) (1.11.2)\n"
          ]
        }
      ]
    },
    {
      "cell_type": "markdown",
      "source": [
        "**Run the cell to define the ChessAI class and agent function**."
      ],
      "metadata": {
        "id": "c389hpAuIsNv"
      }
    },
    {
      "cell_type": "code",
      "source": [
        "import chess\n",
        "import numpy as np\n",
        "import time\n",
        "\n",
        "# Piece-Square Tables for positional evaluation (simplified for efficiency)\n",
        "PIECE_SQUARE_TABLES = {\n",
        "    chess.PAWN: np.array([\n",
        "        0,  0,  0,  0,  0,  0,  0,  0,\n",
        "        5, 10, 10, -20, -20, 10, 10,  5,\n",
        "        5, -5, -10,  0,  0, -10, -5,  5,\n",
        "        0,  0,  0, 20, 20,  0,  0,  0,\n",
        "        5,  5, 10, 25, 25, 10,  5,  5,\n",
        "        10, 10, 20, 30, 30, 20, 10, 10,\n",
        "        50, 50, 50, 50, 50, 50, 50, 50,\n",
        "        0,  0,  0,  0,  0,  0,  0,  0\n",
        "    ], dtype=np.int8),\n",
        "    chess.KNIGHT: np.array([\n",
        "        -50, -40, -30, -30, -30, -30, -40, -50,\n",
        "        -40, -20,   0,   5,   5,   0, -20, -40,\n",
        "        -30,   5,  10,  15,  15,  10,   5, -30,\n",
        "        -30,   0,  15,  20,  20,  15,   0, -30,\n",
        "        -30,   5,  15,  20,  20,  15,   5, -30,\n",
        "        -30,   0,  10,  15,  15,  10,   0, -30,\n",
        "        -40, -20,   0,   0,   0,   0, -20, -40,\n",
        "        -50, -40, -30, -30, -30, -30, -40, -50\n",
        "    ], dtype=np.int8),\n",
        "    # Simplified: Use the same table for other pieces to save memory\n",
        "}\n",
        "\n",
        "# Material values\n",
        "PIECE_VALUES = {\n",
        "    chess.PAWN: 100,\n",
        "    chess.KNIGHT: 320,\n",
        "    chess.BISHOP: 330,\n",
        "    chess.ROOK: 500,\n",
        "    chess.QUEEN: 900,\n",
        "    chess.KING: 20000\n",
        "}\n",
        "\n",
        "class ChessAI:\n",
        "    def __init__(self, time_limit=9.5):  # Conservative time limit (10s - 0.5s buffer)\n",
        "        self.time_limit = time_limit\n",
        "        self.start_time = None\n",
        "        self.nodes_searched = 0\n",
        "\n",
        "    def should_stop(self):\n",
        "        if self.start_time is None:\n",
        "            return False\n",
        "        return (time.time() - self.start_time) >= self.time_limit\n",
        "\n",
        "    def evaluate(self, board):\n",
        "        if board.is_checkmate():\n",
        "            return -9999 if board.turn == chess.WHITE else 9999\n",
        "        if board.is_stalemate() or board.is_insufficient_material():\n",
        "            return 0\n",
        "\n",
        "        # Material balance\n",
        "        material = 0\n",
        "        for piece_type in PIECE_VALUES:\n",
        "            material += len(board.pieces(piece_type, chess.WHITE)) * PIECE_VALUES[piece_type]\n",
        "            material -= len(board.pieces(piece_type, chess.BLACK)) * PIECE_VALUES[piece_type]\n",
        "\n",
        "        # Positional evaluation using piece-square tables\n",
        "        positional = 0\n",
        "        for square in chess.SQUARES:\n",
        "            piece = board.piece_at(square)\n",
        "            if piece is None:\n",
        "                continue\n",
        "            sign = 1 if piece.color == chess.WHITE else -1\n",
        "            piece_type = piece.piece_type\n",
        "            # Flip the square for Black's perspective\n",
        "            idx = square if piece.color == chess.WHITE else chess.SQUARE_NAMES.index(chess.square_name(square)[0] + str(9 - int(chess.square_name(square)[1])))\n",
        "            table = PIECE_SQUARE_TABLES.get(piece_type, PIECE_SQUARE_TABLES[chess.PAWN])\n",
        "            positional += sign * table[idx]\n",
        "\n",
        "        # Mobility evaluation\n",
        "        mobility = len(list(board.legal_moves)) * 2\n",
        "        board.turn = not board.turn\n",
        "        mobility -= len(list(board.legal_moves)) * 2\n",
        "        board.turn = not board.turn\n",
        "\n",
        "        return material + positional + mobility\n",
        "\n",
        "    def alpha_beta(self, board, depth, alpha, beta):\n",
        "        self.nodes_searched += 1\n",
        "        if depth == 0 or board.is_game_over() or self.should_stop():\n",
        "            return self.evaluate(board)\n",
        "\n",
        "        best_value = -float('inf') if board.turn == chess.WHITE else float('inf')\n",
        "        for move in board.legal_moves:\n",
        "            board.push(move)\n",
        "            value = self.alpha_beta(board, depth - 1, alpha, beta)\n",
        "            board.pop()\n",
        "            if board.turn == chess.WHITE:\n",
        "                best_value = max(best_value, value)\n",
        "                alpha = max(alpha, best_value)\n",
        "            else:\n",
        "                best_value = min(best_value, value)\n",
        "                beta = min(beta, best_value)\n",
        "            if beta <= alpha:\n",
        "                break\n",
        "        return best_value\n",
        "\n",
        "    def iterative_deepening(self, board):\n",
        "        self.start_time = time.time()\n",
        "        self.nodes_searched = 0\n",
        "        best_move = None\n",
        "        depth = 1\n",
        "        while not self.should_stop():\n",
        "            best_value = -float('inf') if board.turn == chess.WHITE else float('inf')\n",
        "            alpha, beta = -float('inf'), float('inf')\n",
        "            moves = list(board.legal_moves)\n",
        "            if not moves:\n",
        "                break\n",
        "            for move in moves:\n",
        "                board.push(move)\n",
        "                value = self.alpha_beta(board, depth - 1, alpha, beta)\n",
        "                board.pop()\n",
        "                if board.turn == chess.WHITE:\n",
        "                    if value > best_value:\n",
        "                        best_value = value\n",
        "                        best_move = move\n",
        "                    alpha = max(alpha, best_value)\n",
        "                else:\n",
        "                    if value < best_value:\n",
        "                        best_value = value\n",
        "                        best_move = move\n",
        "                    beta = min(beta, best_value)\n",
        "            depth += 1\n",
        "        return best_move\n",
        "\n",
        "def agent(observation, configuration):\n",
        "    board = chess.Board(observation['fen'])\n",
        "    ai = ChessAI()\n",
        "    move = ai.iterative_deepening(board)\n",
        "    return str(move) if move else \"resign\"\n",
        "\n",
        "if __name__ == \"__main__\":\n",
        "    # Test the agent with a starting position\n",
        "    board = chess.Board()\n",
        "    ai = ChessAI()\n",
        "    move = ai.iterative_deepening(board)\n",
        "    print(f\"Recommended move: {move}\")"
      ],
      "metadata": {
        "colab": {
          "base_uri": "https://localhost:8080/"
        },
        "id": "F0Yy9Jx0I46t",
        "outputId": "5bc065ae-1ca7-43da-e6e2-51449eda2917"
      },
      "execution_count": 9,
      "outputs": [
        {
          "output_type": "stream",
          "name": "stdout",
          "text": [
            "Recommended move: d2d3\n"
          ]
        }
      ]
    },
    {
      "cell_type": "code",
      "source": [
        "# Test the ChessAgent directly\n",
        "board = chess.Board()\n",
        "ai = ChessAgent() # Corrected class name\n",
        "move = ai.get_best_move(board, depth=3) # Call get_best_move with a depth\n",
        "print(f\"Recommended move: {move}\")"
      ],
      "metadata": {
        "colab": {
          "base_uri": "https://localhost:8080/"
        },
        "id": "ClS_ucV-IBVp",
        "outputId": "101d82f3-1802-449d-988f-7a930ae2fe1b"
      },
      "execution_count": 7,
      "outputs": [
        {
          "output_type": "stream",
          "name": "stdout",
          "text": [
            "Recommended move: e2e3\n"
          ]
        }
      ]
    },
    {
      "cell_type": "markdown",
      "source": [
        "**Verify Resource Usage**"
      ],
      "metadata": {
        "id": "RmSbdvBPIDeA"
      }
    },
    {
      "cell_type": "code",
      "source": [
        "import psutil\n",
        "print(psutil.Process().memory_info().rss / 1024 / 1024, \"MiB\")"
      ],
      "metadata": {
        "colab": {
          "base_uri": "https://localhost:8080/"
        },
        "id": "BpbNxVdxID_h",
        "outputId": "93c2c38b-bc01-4723-824a-5b489a3aff22"
      },
      "execution_count": 8,
      "outputs": [
        {
          "output_type": "stream",
          "name": "stdout",
          "text": [
            "106.37109375 MiB\n"
          ]
        }
      ]
    },
    {
      "cell_type": "code",
      "source": [
        "%%writefile submission.py\n",
        "import chess\n",
        "import numpy as np\n",
        "import time\n",
        "\n",
        "# Piece-Square Tables (simplified for memory efficiency)\n",
        "PIECE_SQUARE_TABLES = {\n",
        "    chess.PAWN: np.array([\n",
        "        0,  0,  0,  0,  0,  0,  0,  0,\n",
        "        5, 10, 10, -20, -20, 10, 10,  5,\n",
        "        5, -5, -10,  0,  0, -10, -5,  5,\n",
        "        0,  0,  0, 20, 20,  0,  0,  0,\n",
        "        5,  5, 10, 25, 25, 10,  5,  5,\n",
        "        10, 10, 20, 30, 30, 20, 10, 10,\n",
        "        50, 50, 50, 50, 50, 50, 50, 50,\n",
        "        0,  0,  0,  0,  0,  0,  0,  0\n",
        "    ], dtype=np.int8),\n",
        "    chess.KNIGHT: np.array([\n",
        "        -50, -40, -30, -30, -30, -30, -40, -50,\n",
        "        -40, -20,   0,   5,   5,   0, -20, -40,\n",
        "        -30,   5,  10,  15,  15,  10,   5, -30,\n",
        "        -30,   0,  15,  20,  20,  15,   0, -30,\n",
        "        -30,   5,  15,  20,  20,  15,   5, -30,\n",
        "        -30,   0,  10,  15,  15,  10,   0, -30,\n",
        "        -40, -20,   0,   0,   0,   0, -20, -40,\n",
        "        -50, -40, -30, -30, -30, -30, -40, -50\n",
        "    ], dtype=np.int8),\n",
        "}\n",
        "\n",
        "# Material values\n",
        "PIECE_VALUES = {\n",
        "    chess.PAWN: 100,\n",
        "    chess.KNIGHT: 320,\n",
        "    chess.BISHOP: 330,\n",
        "    chess.ROOK: 500,\n",
        "    chess.QUEEN: 900,\n",
        "    chess.KING: 20000\n",
        "}\n",
        "\n",
        "class ChessAI:\n",
        "    def __init__(self, time_limit=9.5):  # 10s - 0.5s buffer\n",
        "        self.time_limit = time_limit\n",
        "        self.start_time = None\n",
        "        self.nodes_searched = 0\n",
        "\n",
        "    def should_stop(self):\n",
        "        if self.start_time is None:\n",
        "            return False\n",
        "        return (time.time() - self.start_time) >= self.time_limit\n",
        "\n",
        "    def evaluate(self, board):\n",
        "        if board.is_checkmate():\n",
        "            return -9999 if board.turn == chess.WHITE else 9999\n",
        "        if board.is_stalemate() or board.is_insufficient_material():\n",
        "            return 0\n",
        "\n",
        "        # Material balance\n",
        "        material = 0\n",
        "        for piece_type in PIECE_VALUES:\n",
        "            material += len(board.pieces(piece_type, chess.WHITE)) * PIECE_VALUES[piece_type]\n",
        "            material -= len(board.pieces(piece_type, chess.BLACK)) * PIECE_VALUES[piece_type]\n",
        "\n",
        "        # Positional evaluation\n",
        "        positional = 0\n",
        "        for square in chess.SQUARES:\n",
        "            piece = board.piece_at(square)\n",
        "            if piece is None:\n",
        "                continue\n",
        "            sign = 1 if piece.color == chess.WHITE else -1\n",
        "            piece_type = piece.piece_type\n",
        "            idx = square if piece.color == chess.WHITE else chess.SQUARE_NAMES.index(chess.square_name(square)[0] + str(9 - int(chess.square_name(square)[1])))\n",
        "            table = PIECE_SQUARE_TABLES.get(piece_type, PIECE_SQUARE_TABLES[chess.PAWN])\n",
        "            positional += sign * table[idx]\n",
        "\n",
        "        # Mobility evaluation\n",
        "        mobility = len(list(board.legal_moves)) * 2\n",
        "        board.turn = not board.turn\n",
        "        mobility -= len(list(board.legal_moves)) * 2\n",
        "        board.turn = not board.turn\n",
        "\n",
        "        return material + positional + mobility\n",
        "\n",
        "    def alpha_beta(self, board, depth, alpha, beta):\n",
        "        self.nodes_searched += 1\n",
        "        if depth == 0 or board.is_game_over() or self.should_stop():\n",
        "            return self.evaluate(board)\n",
        "\n",
        "        best_value = -float('inf') if board.turn == chess.WHITE else float('inf')\n",
        "        for move in board.legal_moves:\n",
        "            board.push(move)\n",
        "            # Prioritize checkmate detection\n",
        "            if board.is_checkmate():\n",
        "                board.pop()\n",
        "                return -9999 if board.turn == chess.WHITE else 9999\n",
        "            value = self.alpha_beta(board, depth - 1, alpha, beta)\n",
        "            board.pop()\n",
        "            if board.turn == chess.WHITE:\n",
        "                best_value = max(best_value, value)\n",
        "                alpha = max(alpha, best_value)\n",
        "            else:\n",
        "                best_value = min(best_value, value)\n",
        "                beta = min(beta, best_value)\n",
        "            if beta <= alpha:\n",
        "                break\n",
        "        return best_value\n",
        "\n",
        "    def iterative_deepening(self, board):\n",
        "        self.start_time = time.time()\n",
        "        self.nodes_searched = 0\n",
        "        best_move = None\n",
        "        depth = 1\n",
        "        while not self.should_stop():\n",
        "            best_value = -float('inf') if board.turn == chess.WHITE else float('inf')\n",
        "            alpha, beta = -float('inf'), float('inf')\n",
        "            moves = list(board.legal_moves)\n",
        "            if not moves:\n",
        "                break\n",
        "            for move in moves:\n",
        "                board.push(move)\n",
        "                if board.is_checkmate():\n",
        "                    board.pop()\n",
        "                    return move\n",
        "                value = self.alpha_beta(board, depth - 1, alpha, beta)\n",
        "                board\n",
        "\n",
        ".pop()\n",
        "                if board.turn == chess.WHITE:\n",
        "                    if value > best_value:\n",
        "                        best_value = value\n",
        "                        best_move = move\n",
        "                    alpha = max(alpha, best_value)\n",
        "                else:\n",
        "                    if value < best_value:\n",
        "                        best_value = value\n",
        "                        best_move = move\n",
        "                    beta = min(beta, best_value)\n",
        "            depth += 1\n",
        "        return best_move\n",
        "\n",
        "def agent(observation, configuration):\n",
        "    board = chess.Board(observation['fen'])\n",
        "    ai = ChessAI()\n",
        "    move = ai.iterative_deepening(board)\n",
        "    return str(move) if move else \"resign\"\n",
        "\n",
        "if __name__ == \"__main__\":\n",
        "    # Test with the given position\n",
        "    fen = \"3rk1K1/1p1p1pp1/1PpPpP1p/4q1n1/1PpPp3/8/8/1K1N4 w - - 0 1\"\n",
        "    board = chess.Board(fen)\n",
        "    ai = ChessAI(time_limit=2.0)  # Short time limit for testing\n",
        "    move = ai.iterative_deepening(board)\n",
        "    print(f\"Recommended move: {move}\")"
      ],
      "metadata": {
        "colab": {
          "base_uri": "https://localhost:8080/"
        },
        "id": "Eyu_IJOrJm_n",
        "outputId": "afa7d7b1-3f89-4511-86e4-145a57d2a51a"
      },
      "execution_count": 10,
      "outputs": [
        {
          "output_type": "stream",
          "name": "stdout",
          "text": [
            "Writing submission.py\n"
          ]
        }
      ]
    },
    {
      "cell_type": "code",
      "source": [
        "!zip submission.zip submission.py\n",
        "!ls -lh submission.zip"
      ],
      "metadata": {
        "colab": {
          "base_uri": "https://localhost:8080/"
        },
        "id": "kOY7a5iWQRua",
        "outputId": "7acdfd14-6ec3-471b-b781-137b5aef3629"
      },
      "execution_count": 11,
      "outputs": [
        {
          "output_type": "stream",
          "name": "stdout",
          "text": [
            "  adding: submission.py (deflated 72%)\n",
            "-rw-r--r-- 1 root root 1.7K May 29 04:16 submission.zip\n"
          ]
        }
      ]
    }
  ],
  "metadata": {
    "kernelspec": {
      "display_name": "Python 3",
      "language": "python",
      "name": "python3"
    },
    "language_info": {
      "codemirror_mode": {
        "name": "ipython",
        "version": 3
      },
      "file_extension": ".py",
      "mimetype": "text/x-python",
      "name": "python",
      "nbconvert_exporter": "python",
      "pygments_lexer": "ipython3",
      "version": "3.8.0"
    },
    "colab": {
      "provenance": [],
      "include_colab_link": true
    }
  },
  "nbformat": 4,
  "nbformat_minor": 0
}